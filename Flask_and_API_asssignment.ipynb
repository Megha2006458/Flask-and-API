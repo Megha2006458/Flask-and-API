{
  "cells": [
    {
      "cell_type": "markdown",
      "metadata": {
        "id": "hzwiNAyEuNKb"
      },
      "source": [
        "Que1. What is RESTful API?\n",
        "ans. A RESTful API is an API that follows the principles of REST. It uses\n",
        "     standard HTTP methods (GET, POST, PUT, DELETE) to perform operations on resources.\n",
        "\n",
        "\n",
        "Que2. Explain the concept of API specification?\n",
        "ans.  An API specification defines how an API behaves, including its endpoints,\n",
        "      request/response formats, parameters, authentication methods, and error codes. Example include openAPI and Swagger.\n",
        "\n",
        "\n",
        "Que3. What is Flask, and why is it popular for building API?\n",
        "Ans. Flask is lightweight python web framework. It is popular because it's simple, flexible, easy to learn, and great for building RESTful APIs with minimal setup.\n",
        "\n",
        "\n",
        "Que4. What is routing in FLASK?\n",
        "ans.  Routing in Flask maps URls to python functions. These functions are called view functions and are defined using decorators like @app.route().\n",
        "\n",
        "\n",
        "Que5. How do you create a simple Flask application?\n",
        "ans.  "
      ]
    },
    {
      "cell_type": "code",
      "execution_count": 4,
      "metadata": {
        "id": "cja5yhDWuMYO",
        "colab": {
          "base_uri": "https://localhost:8080/"
        },
        "outputId": "a41047d3-4dae-468d-dafb-0babd983389e"
      },
      "outputs": [
        {
          "output_type": "stream",
          "name": "stdout",
          "text": [
            "Requirement already satisfied: flask-ngrok in /usr/local/lib/python3.11/dist-packages (0.0.25)\n",
            "Requirement already satisfied: Flask>=0.8 in /usr/local/lib/python3.11/dist-packages (from flask-ngrok) (3.1.1)\n",
            "Requirement already satisfied: requests in /usr/local/lib/python3.11/dist-packages (from flask-ngrok) (2.32.3)\n",
            "Requirement already satisfied: blinker>=1.9.0 in /usr/local/lib/python3.11/dist-packages (from Flask>=0.8->flask-ngrok) (1.9.0)\n",
            "Requirement already satisfied: click>=8.1.3 in /usr/local/lib/python3.11/dist-packages (from Flask>=0.8->flask-ngrok) (8.2.1)\n",
            "Requirement already satisfied: itsdangerous>=2.2.0 in /usr/local/lib/python3.11/dist-packages (from Flask>=0.8->flask-ngrok) (2.2.0)\n",
            "Requirement already satisfied: jinja2>=3.1.2 in /usr/local/lib/python3.11/dist-packages (from Flask>=0.8->flask-ngrok) (3.1.6)\n",
            "Requirement already satisfied: markupsafe>=2.1.1 in /usr/local/lib/python3.11/dist-packages (from Flask>=0.8->flask-ngrok) (3.0.2)\n",
            "Requirement already satisfied: werkzeug>=3.1.0 in /usr/local/lib/python3.11/dist-packages (from Flask>=0.8->flask-ngrok) (3.1.3)\n",
            "Requirement already satisfied: charset-normalizer<4,>=2 in /usr/local/lib/python3.11/dist-packages (from requests->flask-ngrok) (3.4.2)\n",
            "Requirement already satisfied: idna<4,>=2.5 in /usr/local/lib/python3.11/dist-packages (from requests->flask-ngrok) (3.10)\n",
            "Requirement already satisfied: urllib3<3,>=1.21.1 in /usr/local/lib/python3.11/dist-packages (from requests->flask-ngrok) (2.5.0)\n",
            "Requirement already satisfied: certifi>=2017.4.17 in /usr/local/lib/python3.11/dist-packages (from requests->flask-ngrok) (2025.7.14)\n"
          ]
        }
      ],
      "source": [
        "!pip install flask-ngrok"
      ]
    },
    {
      "cell_type": "code",
      "execution_count": 6,
      "metadata": {
        "colab": {
          "base_uri": "https://localhost:8080/"
        },
        "id": "WBgzAXvy06uh",
        "outputId": "83569d9d-83fb-4d9a-d40b-f3f03a19fd88"
      },
      "outputs": [
        {
          "output_type": "stream",
          "name": "stdout",
          "text": [
            " * Serving Flask app '__main__'\n",
            " * Debug mode: on\n"
          ]
        },
        {
          "output_type": "stream",
          "name": "stderr",
          "text": [
            "INFO:werkzeug:\u001b[31m\u001b[1mWARNING: This is a development server. Do not use it in a production deployment. Use a production WSGI server instead.\u001b[0m\n",
            " * Running on http://127.0.0.1:5000\n",
            "INFO:werkzeug:\u001b[33mPress CTRL+C to quit\u001b[0m\n",
            "INFO:werkzeug: * Restarting with stat\n"
          ]
        }
      ],
      "source": [
        "from flask import Flask\n",
        "app= Flask(__name__)\n",
        "@app.route('/')\n",
        "def home():\n",
        "  return \"Hello, Flask!\"\n",
        "if __name__== '__main__':\n",
        "  app.run(debug=True)"
      ]
    },
    {
      "cell_type": "markdown",
      "metadata": {
        "id": "3yS6Q3yR1W0s"
      },
      "source": [
        "Que6. What are HTTP methods used in RESTful APIs?\n",
        "ans.  * GET: Retrieve data.\n",
        "      * PUT: Upadate data.\n",
        "      *DELETE: Delete data\n",
        "      *PATCH: Partial update\n",
        "\n",
        "\n",
        "Que7. What is the purpose of the @app.route() decorator in Flask?\n",
        "ans.  It defines the url route and links it to a function that handles the request to that route.\n",
        "\n",
        "\n",
        "Que8. What is the difference between GET and POST HTTP methods?\n",
        "ans.   GET: Requests data from a server (no body, data in url).\n",
        "       POST: Sends data to the server (data in body), often used to create resources.\n",
        "\n",
        "\n",
        "Que9. How do you handle errors in Flask APIs?\n",
        "ans.  Use @app.errorhandler() decorator or Flask's built in error responses:"
      ]
    },
    {
      "cell_type": "code",
      "execution_count": 7,
      "metadata": {
        "id": "2poFDh5B065I"
      },
      "outputs": [],
      "source": [
        "@app.errorhandler(404)\n",
        "def not_found(e):\n",
        "  return {\"error\": \"Not Found\"}, 404"
      ]
    },
    {
      "cell_type": "code",
      "execution_count": 10,
      "metadata": {
        "id": "6zvUZ2r43aK-",
        "colab": {
          "base_uri": "https://localhost:8080/"
        },
        "outputId": "8adcaf5c-3b85-4ae3-b3e8-8d472ac48b62"
      },
      "outputs": [
        {
          "output_type": "stream",
          "name": "stdout",
          "text": [
            "Collecting flask_sqlalchemy\n",
            "  Downloading flask_sqlalchemy-3.1.1-py3-none-any.whl.metadata (3.4 kB)\n",
            "Requirement already satisfied: flask>=2.2.5 in /usr/local/lib/python3.11/dist-packages (from flask_sqlalchemy) (3.1.1)\n",
            "Requirement already satisfied: sqlalchemy>=2.0.16 in /usr/local/lib/python3.11/dist-packages (from flask_sqlalchemy) (2.0.41)\n",
            "Requirement already satisfied: blinker>=1.9.0 in /usr/local/lib/python3.11/dist-packages (from flask>=2.2.5->flask_sqlalchemy) (1.9.0)\n",
            "Requirement already satisfied: click>=8.1.3 in /usr/local/lib/python3.11/dist-packages (from flask>=2.2.5->flask_sqlalchemy) (8.2.1)\n",
            "Requirement already satisfied: itsdangerous>=2.2.0 in /usr/local/lib/python3.11/dist-packages (from flask>=2.2.5->flask_sqlalchemy) (2.2.0)\n",
            "Requirement already satisfied: jinja2>=3.1.2 in /usr/local/lib/python3.11/dist-packages (from flask>=2.2.5->flask_sqlalchemy) (3.1.6)\n",
            "Requirement already satisfied: markupsafe>=2.1.1 in /usr/local/lib/python3.11/dist-packages (from flask>=2.2.5->flask_sqlalchemy) (3.0.2)\n",
            "Requirement already satisfied: werkzeug>=3.1.0 in /usr/local/lib/python3.11/dist-packages (from flask>=2.2.5->flask_sqlalchemy) (3.1.3)\n",
            "Requirement already satisfied: greenlet>=1 in /usr/local/lib/python3.11/dist-packages (from sqlalchemy>=2.0.16->flask_sqlalchemy) (3.2.3)\n",
            "Requirement already satisfied: typing-extensions>=4.6.0 in /usr/local/lib/python3.11/dist-packages (from sqlalchemy>=2.0.16->flask_sqlalchemy) (4.14.1)\n",
            "Downloading flask_sqlalchemy-3.1.1-py3-none-any.whl (25 kB)\n",
            "Installing collected packages: flask_sqlalchemy\n",
            "Successfully installed flask_sqlalchemy-3.1.1\n"
          ]
        }
      ],
      "source": [
        "!pip install flask_sqlalchemy"
      ]
    },
    {
      "cell_type": "markdown",
      "metadata": {
        "id": "Jej13Gup3eTy"
      },
      "source": [
        "Que10. How do you conncect Flask to a SQL Databse?\n",
        "ans. using libraries like Flask-SQLAlchemy:"
      ]
    },
    {
      "cell_type": "code",
      "execution_count": 15,
      "metadata": {
        "id": "x9afi2YF3ci_"
      },
      "outputs": [],
      "source": [
        "from flask import Flask\n",
        "from flask_sqlalchemy import SQLAlchemy\n",
        "\n",
        "app= Flask(__name__)\n",
        "\n",
        "app.config['SQLALCHEMY_DATABASE_URI']= 'sqlite:///data.db'\n",
        "db= SQLAlchemy(app)"
      ]
    },
    {
      "cell_type": "markdown",
      "metadata": {
        "id": "yLr_Unkg4Nyw"
      },
      "source": [
        "Que11. What is the role of Flask-SQLAlchemy?\n",
        "ans.   It provides ORM(Object Relational Mapping) features to interact with the database using Python classes instead of Sql queries.\n",
        "\n",
        "\n",
        "Que12. What are Flask blueprints, and how are they useful?\n",
        "ans.   Blueprints allow modular code structure by grouping routes, templates, and static files. Useful for large applications.\n",
        "\n",
        "\n",
        "Que13. What is the purpose of Flask's request object?\n",
        "ans.   The request object gives access to incoming request data such as headers, form data, JSON payload etc.\n",
        "\n",
        "\n",
        "Que14. How do you create a RESTful API endpoint using FLASKa?\n",
        "ans.   "
      ]
    },
    {
      "cell_type": "code",
      "execution_count": 16,
      "metadata": {
        "id": "zFaBkfx74JiX"
      },
      "outputs": [],
      "source": [
        "from flask import request, jsonify\n",
        "\n",
        "@app.route('/api/data', methods=['POST'])\n",
        "def api_data():\n",
        "  data = request.json\n",
        "  return jsonify({\"you_sent\": data})"
      ]
    },
    {
      "cell_type": "markdown",
      "metadata": {
        "id": "oKkPbDfs7jYo"
      },
      "source": [
        "Que15. What is the purpose of Flask's jsonify() function?\n",
        "ans.  It converts Python dictionaries into JSON responses and sets the correct Content-Type.\n",
        "\n",
        "\n",
        "Que16. Explain Flask's url_for() function?\n",
        "ans.   Generates a Url to a view function dynamatically?\n",
        "ans."
      ]
    },
    {
      "cell_type": "code",
      "execution_count": 23,
      "metadata": {
        "id": "oahgpO4S4Jkv",
        "colab": {
          "base_uri": "https://localhost:8080/"
        },
        "outputId": "994207a1-e645-4690-d1d6-db457c3cfafc"
      },
      "outputs": [
        {
          "output_type": "stream",
          "name": "stdout",
          "text": [
            "http://localhost:5000/\n"
          ]
        }
      ],
      "source": [
        "from flask import Flask, url_for\n",
        "\n",
        "app= Flask(__name__)\n",
        "app.config['SERVER_NAME'] = 'localhost:5000'\n",
        "\n",
        "@app.route('/')\n",
        "def home():\n",
        "  return 'Home Page'\n",
        "\n",
        "with app.app_context():\n",
        "  print(url_for('home'))\n",
        "\n"
      ]
    },
    {
      "cell_type": "markdown",
      "metadata": {
        "id": "KAcBiJTg8RUX"
      },
      "source": [
        "Que17. How does Flask handle static files (CSS, javascript, etc)?\n",
        "ans.   Flask serves files from the static/ directory using:"
      ]
    },
    {
      "cell_type": "code",
      "execution_count": 24,
      "metadata": {
        "id": "1kr4Isk-4Jnc",
        "colab": {
          "base_uri": "https://localhost:8080/"
        },
        "outputId": "ba19f8a2-ac22-46ae-abd5-a19c3ae49cbb"
      },
      "outputs": [
        {
          "output_type": "stream",
          "name": "stdout",
          "text": [
            "Flask Static File Linnk in HTML:\n",
            "<link rel=\"stylesheet\"href= \"http://localhost:5000/static/style.css\">\n"
          ]
        }
      ],
      "source": [
        "from flask import Flask, url_for\n",
        "\n",
        "app= Flask(__name__)\n",
        "\n",
        "app.config['SERVER_NAME'] = 'localhost:5000'\n",
        "\n",
        "with app.app_context():\n",
        "  css_link= url_for('static', filename= 'style.css')\n",
        "\n",
        "html_code= f'<link rel=\"stylesheet\"href= \"{css_link}\">'\n",
        "\n",
        "\n",
        "print(\"Flask Static File Linnk in HTML:\")\n",
        "print(html_code)\n",
        "\n",
        "\n"
      ]
    },
    {
      "cell_type": "markdown",
      "metadata": {
        "id": "Zhl0fB7z9HuC"
      },
      "source": [
        "Que18. What is an API specification, and how does it help in building a Flask API?\n",
        "ANS. An API specification (like openAPI) documents the API structure, helping developers understand and use the API correctly.\n",
        "\n",
        "\n",
        "Que19. What are HTTP status codes, and why are they important in a Flask API?\n",
        "ans.   They indicate the result of a request (e.g., 200 ok, 404 NOT Found, 500 server Error), helping clients understand the outcome.\n",
        "\n",
        "\n",
        "Que20. How do you handle POST request in Flask?\n",
        "ans.   "
      ]
    },
    {
      "cell_type": "code",
      "execution_count": 25,
      "metadata": {
        "id": "23ridFa-8nQU"
      },
      "outputs": [],
      "source": [
        "@app.route('/submit', methods=['POST'])\n",
        "def submit():\n",
        "  data= request.form\n",
        "  return f\"Data received: {data}\""
      ]
    },
    {
      "cell_type": "markdown",
      "metadata": {
        "id": "Ff67GI7ZLeP0"
      },
      "source": [
        "Que21. How would you secure a Flask API?\n",
        "ANS.  1. Use HTTPS\n",
        "      2. Validate input\n",
        "      3. Use authentication (eg., JWT, API keys)\n",
        "      4. Protect against CSRF\n",
        "      5. Limit rate requests"
      ]
    },
    {
      "cell_type": "markdown",
      "metadata": {
        "id": "QUNK4roHM4Nz"
      },
      "source": [
        "Que22. What is the significance of the Flask-RESTful extension?\n",
        "ans. Flask RESTful is an extension for flask that helps you build REST APIs quickly and efficiently. It provides tools and classes to make API development more structured and easier to manage.\n",
        "\n",
        "\n",
        "Que23. What is the role of Flask's session object?\n",
        "ans. Flask's session object is used to store data across multiple requests from the same user - like login status, ussername, or preferences.\n",
        "\n",
        "It works like a dictionary and is stored on the client-side as a or preferences.\n",
        "\n",
        "\n",
        "\n",
        "\n",
        "\n",
        "\n",
        "                     ___PRACTICAL QUESTION__\n",
        "\n",
        "\n",
        "Que1. How do you create a basic Flask application?"
      ]
    },
    {
      "cell_type": "code",
      "execution_count": 26,
      "metadata": {
        "id": "fIwJPQ2l8nSb",
        "colab": {
          "base_uri": "https://localhost:8080/"
        },
        "outputId": "07775752-d3ef-49ff-bb9f-0955baa41f47"
      },
      "outputs": [
        {
          "output_type": "stream",
          "name": "stdout",
          "text": [
            " * Serving Flask app '__main__'\n",
            " * Debug mode: on\n"
          ]
        },
        {
          "output_type": "stream",
          "name": "stderr",
          "text": [
            "INFO:werkzeug:\u001b[31m\u001b[1mWARNING: This is a development server. Do not use it in a production deployment. Use a production WSGI server instead.\u001b[0m\n",
            " * Running on http://127.0.0.1:5000\n",
            "INFO:werkzeug:\u001b[33mPress CTRL+C to quit\u001b[0m\n",
            "INFO:werkzeug: * Restarting with stat\n"
          ]
        }
      ],
      "source": [
        "from flask import Flask\n",
        "\n",
        "app= Flask(__name__)\n",
        "\n",
        "@app.route('/')\n",
        "def home():\n",
        "  return 'Hello, Flask!'\n",
        "if __name__ == '__main__':\n",
        "  app.run(debug=True)"
      ]
    },
    {
      "cell_type": "markdown",
      "metadata": {
        "id": "N5vNInbgPGJx"
      },
      "source": [
        "Que2. How do you serve static files like images or css i Flask\n",
        "ans.  *Create a folder name static/.\n",
        "      *Place files inside it like static/style.css or static/ image.png\n",
        "      *Use un HTML.\n",
        "      "
      ]
    },
    {
      "cell_type": "code",
      "execution_count": 29,
      "metadata": {
        "id": "aCngxG2O8nVT",
        "colab": {
          "base_uri": "https://localhost:8080/"
        },
        "outputId": "68e3cd5d-3dce-4abd-e531-7bc2536499a9"
      },
      "outputs": [
        {
          "output_type": "stream",
          "name": "stdout",
          "text": [
            "Generated HTML with static file links:\n",
            "\n",
            "<link rel=\"stylesheet\" href=\"http://localhost:5000/static/style.css\">\n",
            "<img src=\"http://localhost:5000/static/image.png\">\n",
            "\n"
          ]
        }
      ],
      "source": [
        "from flask import Flask, url_for\n",
        "\n",
        "app= Flask(__name__)\n",
        "app.config['SERVER_NAME'] = 'localhost:5000'\n",
        "\n",
        "with app.app_context():\n",
        "  css_path = url_for('static', filename='style.css')\n",
        "  image_path = url_for('static', filename= 'image.png')\n",
        "\n",
        "\n",
        "html_code= f\"\"\"\n",
        "<link rel=\"stylesheet\" href=\"{css_path}\">\n",
        "<img src=\"{image_path}\">\n",
        "\"\"\"\n",
        "\n",
        "print(\"Generated HTML with static file links:\")\n",
        "print(html_code)"
      ]
    },
    {
      "cell_type": "markdown",
      "metadata": {
        "id": "0btv4mLGQcWg"
      },
      "source": [
        "Que3. How do you define different routes with different HTTP methods in Flask?"
      ]
    },
    {
      "cell_type": "code",
      "execution_count": null,
      "metadata": {
        "id": "MsbaeJGE8nY4",
        "colab": {
          "base_uri": "https://localhost:8080/"
        },
        "outputId": "77a22aa5-6075-4106-a18c-ceb1c2578900"
      },
      "outputs": [
        {
          "output_type": "stream",
          "name": "stdout",
          "text": [
            " * Serving Flask app '__main__'\n",
            " * Debug mode: on\n"
          ]
        },
        {
          "output_type": "stream",
          "name": "stderr",
          "text": [
            "INFO:werkzeug:\u001b[31m\u001b[1mWARNING: This is a development server. Do not use it in a production deployment. Use a production WSGI server instead.\u001b[0m\n",
            " * Running on http://127.0.0.1:5000\n",
            "INFO:werkzeug:\u001b[33mPress CTRL+C to quit\u001b[0m\n",
            "INFO:werkzeug: * Restarting with stat\n"
          ]
        }
      ],
      "source": [
        "from flask import Flask, request\n",
        "\n",
        "app= Flask(__name__)\n",
        "\n",
        "@app.route('/submit', methods=['GET', 'POST'])\n",
        "def submit():\n",
        "  if request.method == 'POST':\n",
        "      return 'Form submitted'\n",
        "      return 'submit form'\n",
        "\n",
        "if __name__ == '__main__':\n",
        "  app.run(debug=True)"
      ]
    },
    {
      "cell_type": "markdown",
      "metadata": {
        "id": "XdSeo4f6ReL1"
      },
      "source": [
        "Que4. How do you render Html templates in Flask?\n",
        "ans. * Create a templates/folder.\n",
        "     * Add an Html file like index.html."
      ]
    },
    {
      "cell_type": "code",
      "execution_count": null,
      "metadata": {
        "id": "NaRO8bpFQqZ3"
      },
      "outputs": [],
      "source": [
        "from flask import render_template\n",
        "@app.route('/')\n",
        "def home():\n",
        "  return render_template('index.html')"
      ]
    },
    {
      "cell_type": "markdown",
      "metadata": {
        "id": "eqhEk9QXSKfk"
      },
      "source": [
        "Que5. How can you generate URLs for routes in Flask using url_for?"
      ]
    },
    {
      "cell_type": "code",
      "execution_count": null,
      "metadata": {
        "id": "ehMzHcRYQqcS"
      },
      "outputs": [],
      "source": [
        "from flask import Flask\n",
        "\n",
        "app= Flask(__name__)\n",
        "\n",
        "@app.route('/about')\n",
        "def about():\n",
        "  return 'About Page'\n",
        "\n",
        "@app.route('/')\n",
        "def home():\n",
        "  return f'Go to <a href=\"{url_for(\"about\")}\">About</a>'\n",
        "\n",
        "if __name__ == '__main__':\n",
        "  app.run()\n"
      ]
    },
    {
      "cell_type": "markdown",
      "metadata": {
        "id": "S-8ZtO-UUFsp"
      },
      "source": [
        "Que6. How do you handle forms in Flask?\n",
        "ans.  "
      ]
    },
    {
      "cell_type": "code",
      "execution_count": null,
      "metadata": {
        "id": "MQNu8astQqes"
      },
      "outputs": [],
      "source": [
        "@app.route('/form', methods=['GET', 'POST'])\n",
        "def form():\n",
        "  if request.method == 'POST':\n",
        "    name = request.form['name']\n",
        "    return f'Hello {name}'\n",
        "  return '''\n",
        "        <form method=\"POST\">\n",
        "              <input name=\"name\">\n",
        "              <input type=\"submit\">\n",
        "            </form>\n",
        "      '''"
      ]
    },
    {
      "cell_type": "markdown",
      "metadata": {
        "id": "BjRAixJPVfWp"
      },
      "source": [
        "Que7. How can you validate form data in Flask?\n"
      ]
    },
    {
      "cell_type": "code",
      "execution_count": null,
      "metadata": {
        "id": "H103D2oXQqhE"
      },
      "outputs": [],
      "source": [
        "name= request.form.get('name')\n",
        "if not name:\n",
        "  return 'Name is required!'"
      ]
    },
    {
      "cell_type": "markdown",
      "metadata": {
        "id": "A78hZiGTXdju"
      },
      "source": [
        "Que8. How do you manage sessions in Flask?"
      ]
    },
    {
      "cell_type": "code",
      "execution_count": null,
      "metadata": {
        "id": "4aCL3lyyQqjR"
      },
      "outputs": [],
      "source": [
        "from flask import session\n",
        "\n",
        "app.secret_key = 'Your_secret_key'\n",
        "\n",
        "@app.route('/set/')\n",
        "def set_session():\n",
        "  session['user']= 'john'\n",
        "  return 'Session set'\n",
        "\n",
        "@app.route('/get/')\n",
        "def get_session():\n",
        "  return session.get('user', 'Not set')\n",
        "\n",
        "app.run()"
      ]
    },
    {
      "cell_type": "markdown",
      "metadata": {
        "id": "7QGnf9xgYjuJ"
      },
      "source": [
        "Que9. How do you redirect to a different route in Flask?"
      ]
    },
    {
      "cell_type": "code",
      "execution_count": null,
      "metadata": {
        "id": "cgfGS8oGQqm6"
      },
      "outputs": [],
      "source": [
        "from flask import redirect, url_for\n",
        "\n",
        "@appp.route('/login')\n",
        "def login():\n",
        "  return redirect(url_for('home'))"
      ]
    },
    {
      "cell_type": "markdown",
      "metadata": {
        "id": "Idq3hHveZCRu"
      },
      "source": [
        "Que10. How do you handle errors in Flask(e.g 404)"
      ]
    },
    {
      "cell_type": "code",
      "execution_count": null,
      "metadata": {
        "id": "9REK4oEZYsCZ"
      },
      "outputs": [],
      "source": [
        "@app.errorhandler(404)\n",
        "def page_not_found(e):\n",
        "  return 'Page_not_found', 404"
      ]
    },
    {
      "cell_type": "markdown",
      "source": [
        "Que11. How do you structure a Flask app using Blueprints?"
      ],
      "metadata": {
        "id": "AhjCb6VBX-0q"
      }
    },
    {
      "cell_type": "code",
      "execution_count": null,
      "metadata": {
        "id": "bItEUtCvYsEU"
      },
      "outputs": [],
      "source": [
        "from flask import Blueprint\n",
        "\n",
        "blog= Blueprint('blog', __name__)\n",
        "\n",
        "@blog.route('/blog')\n",
        "def blog_home():\n",
        "  return 'Blog Home'\n",
        "\n",
        "# In main app file\n",
        "from flask import Flask\n",
        "from blog import blog\n",
        "\n",
        "app= Flask(__name__)\n",
        "app.register_blueprint(blog)\n"
      ]
    },
    {
      "cell_type": "markdown",
      "source": [
        "Que12. How do you define a custom jinja filter in Flask?"
      ],
      "metadata": {
        "id": "ak_--ysIZWuG"
      }
    },
    {
      "cell_type": "code",
      "execution_count": null,
      "metadata": {
        "id": "gYwuTaDmYsHE"
      },
      "outputs": [],
      "source": [
        "@app.template_filter('reverse')\n",
        "def reverse_filter(s):\n",
        "  return s[::-1]\n",
        "\n",
        "# In template: {{'hello' |  reverse}}"
      ]
    },
    {
      "cell_type": "markdown",
      "source": [
        "Que13. How can you redirect with query parameters in Flask?"
      ],
      "metadata": {
        "id": "qR82Ts3wZ_rD"
      }
    },
    {
      "cell_type": "code",
      "execution_count": null,
      "metadata": {
        "id": "i9-1gMnJYsJ1"
      },
      "outputs": [],
      "source": [
        "@app.route('/redirect-me')\n",
        "def redirect_me():\n",
        "  return redirect(Url_for('targe', name='Deep'))\n",
        "\n",
        "@app.route('/target')\n",
        "def target():\n",
        "  name= request.args.get('name')\n",
        "  return f'Hello {name}'"
      ]
    },
    {
      "cell_type": "markdown",
      "source": [
        "Que14. How do you return JSON responses in Flask?"
      ],
      "metadata": {
        "id": "CUIgFeyOaw3K"
      }
    },
    {
      "cell_type": "code",
      "source": [
        "from flask import jsonify\n",
        "\n",
        "@app.route('/json')\n",
        "def json_response():\n",
        "  return jsonify({'name': 'Deep', 'age': 18})\n",
        ""
      ],
      "metadata": {
        "id": "WvmaHlvbZ-vP"
      },
      "execution_count": null,
      "outputs": []
    },
    {
      "cell_type": "markdown",
      "source": [
        "Que15. How do you capture URl parameters in Flask?"
      ],
      "metadata": {
        "id": "kwfZzMUlbSnE"
      }
    },
    {
      "cell_type": "code",
      "source": [
        "@app.route('/user/<username>')\n",
        "def show_user(username):\n",
        "  return f'User: {username}'"
      ],
      "metadata": {
        "id": "BniqIPdPZ-xY"
      },
      "execution_count": null,
      "outputs": []
    },
    {
      "cell_type": "code",
      "source": [],
      "metadata": {
        "id": "BDGZvMeDZ-0G"
      },
      "execution_count": null,
      "outputs": []
    },
    {
      "cell_type": "code",
      "source": [],
      "metadata": {
        "id": "RvdbyzmAZ-3l"
      },
      "execution_count": null,
      "outputs": []
    },
    {
      "cell_type": "code",
      "source": [],
      "metadata": {
        "id": "nTnin4F3Z-69"
      },
      "execution_count": null,
      "outputs": []
    },
    {
      "cell_type": "code",
      "execution_count": null,
      "metadata": {
        "id": "q5pQwFxM4JqD"
      },
      "outputs": [],
      "source": []
    },
    {
      "cell_type": "code",
      "execution_count": null,
      "metadata": {
        "id": "_7JIeQ154JsN"
      },
      "outputs": [],
      "source": []
    }
  ],
  "metadata": {
    "colab": {
      "provenance": []
    },
    "kernelspec": {
      "display_name": "Python 3",
      "name": "python3"
    },
    "language_info": {
      "name": "python"
    }
  },
  "nbformat": 4,
  "nbformat_minor": 0
}